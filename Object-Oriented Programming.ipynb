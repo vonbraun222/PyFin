{
 "cells": [
  {
   "cell_type": "markdown",
   "id": "7fcc57ab-3481-4568-a2b4-91b819bd1e8d",
   "metadata": {},
   "source": [
    "# Object-Oriented Programming"
   ]
  },
  {
   "cell_type": "code",
   "execution_count": 2,
   "id": "eae53399-3b3e-46bc-bc89-32b1cfe47895",
   "metadata": {},
   "outputs": [],
   "source": [
    "class HumanBeing(object):\n",
    "    def __init__(self, first_name, eye_color):\n",
    "        self.first_name = first_name\n",
    "        self.eye_color= eye_color\n",
    "        self.position = 0\n",
    "    def walk_steps(self, steps):\n",
    "        self.position += steps"
   ]
  },
  {
   "cell_type": "code",
   "execution_count": 3,
   "id": "0e0fe4e8-2f5d-4dfa-8c26-6e8a5b7564a5",
   "metadata": {},
   "outputs": [],
   "source": [
    "Sandra = HumanBeing('Sandra', 'blue')"
   ]
  },
  {
   "cell_type": "code",
   "execution_count": 4,
   "id": "47da142d-a01a-42dd-8d6e-a8356d4acec5",
   "metadata": {},
   "outputs": [
    {
     "data": {
      "text/plain": [
       "'Sandra'"
      ]
     },
     "execution_count": 4,
     "metadata": {},
     "output_type": "execute_result"
    }
   ],
   "source": [
    "Sandra.first_name"
   ]
  },
  {
   "cell_type": "code",
   "execution_count": 5,
   "id": "83d2c6dc-e1cf-4c79-b789-0c610aa67390",
   "metadata": {},
   "outputs": [
    {
     "data": {
      "text/plain": [
       "0"
      ]
     },
     "execution_count": 5,
     "metadata": {},
     "output_type": "execute_result"
    }
   ],
   "source": [
    "Sandra.position"
   ]
  },
  {
   "cell_type": "code",
   "execution_count": 6,
   "id": "fd3cc8d6-ed3a-4be8-b541-9dc5253af7de",
   "metadata": {},
   "outputs": [],
   "source": [
    "Sandra.walk_steps(5)"
   ]
  },
  {
   "cell_type": "code",
   "execution_count": 7,
   "id": "cc11f282-9bcd-4d62-81c5-488a8ac8e853",
   "metadata": {},
   "outputs": [
    {
     "data": {
      "text/plain": [
       "5"
      ]
     },
     "execution_count": 7,
     "metadata": {},
     "output_type": "execute_result"
    }
   ],
   "source": [
    "Sandra.position"
   ]
  },
  {
   "cell_type": "markdown",
   "id": "d9df1018-323d-493a-8fad-dc24fac59670",
   "metadata": {},
   "source": [
    "## Python Objects"
   ]
  },
  {
   "cell_type": "markdown",
   "id": "86980fb6-158a-48be-838b-f94ab3898148",
   "metadata": {},
   "source": [
    "### int"
   ]
  },
  {
   "cell_type": "code",
   "execution_count": 8,
   "id": "9a273315-0a8e-42dc-856d-5080a7eaa041",
   "metadata": {},
   "outputs": [],
   "source": [
    "n = 5"
   ]
  },
  {
   "cell_type": "code",
   "execution_count": 9,
   "id": "201c01ad-d3bd-4589-918b-92a7b889d20e",
   "metadata": {},
   "outputs": [
    {
     "data": {
      "text/plain": [
       "int"
      ]
     },
     "execution_count": 9,
     "metadata": {},
     "output_type": "execute_result"
    }
   ],
   "source": [
    "type(n)"
   ]
  },
  {
   "cell_type": "code",
   "execution_count": 10,
   "id": "f80cd325-378a-4816-958e-458a7b562b0d",
   "metadata": {},
   "outputs": [
    {
     "data": {
      "text/plain": [
       "5"
      ]
     },
     "execution_count": 10,
     "metadata": {},
     "output_type": "execute_result"
    }
   ],
   "source": [
    "n.numerator"
   ]
  },
  {
   "cell_type": "code",
   "execution_count": 11,
   "id": "0c2a9fec-6402-415f-8f65-266547619710",
   "metadata": {},
   "outputs": [
    {
     "data": {
      "text/plain": [
       "3"
      ]
     },
     "execution_count": 11,
     "metadata": {},
     "output_type": "execute_result"
    }
   ],
   "source": [
    "n.bit_length()"
   ]
  },
  {
   "cell_type": "code",
   "execution_count": 12,
   "id": "ceba6100-dfc3-4557-8c8b-3ebfe49a9571",
   "metadata": {},
   "outputs": [
    {
     "data": {
      "text/plain": [
       "10"
      ]
     },
     "execution_count": 12,
     "metadata": {},
     "output_type": "execute_result"
    }
   ],
   "source": [
    "n + n"
   ]
  },
  {
   "cell_type": "code",
   "execution_count": 13,
   "id": "88c905e1-4d14-4fc7-aac6-04077c6a5dec",
   "metadata": {},
   "outputs": [
    {
     "data": {
      "text/plain": [
       "10"
      ]
     },
     "execution_count": 13,
     "metadata": {},
     "output_type": "execute_result"
    }
   ],
   "source": [
    "2 * n"
   ]
  },
  {
   "cell_type": "code",
   "execution_count": 14,
   "id": "65611db9-aa87-419d-aa58-6f3b684bb605",
   "metadata": {},
   "outputs": [
    {
     "data": {
      "text/plain": [
       "28"
      ]
     },
     "execution_count": 14,
     "metadata": {},
     "output_type": "execute_result"
    }
   ],
   "source": [
    "n.__sizeof__()"
   ]
  },
  {
   "cell_type": "markdown",
   "id": "ab51a5b4-40ca-49d2-a4c3-12419c727c78",
   "metadata": {},
   "source": [
    "### list"
   ]
  },
  {
   "cell_type": "code",
   "execution_count": 15,
   "id": "6300da77-7be3-417c-9fff-5c8e7511185f",
   "metadata": {},
   "outputs": [],
   "source": [
    "l = [1, 2, 3, 4]"
   ]
  },
  {
   "cell_type": "code",
   "execution_count": 16,
   "id": "90ffbab7-6761-46b5-91af-ed50e69aa75e",
   "metadata": {},
   "outputs": [
    {
     "data": {
      "text/plain": [
       "list"
      ]
     },
     "execution_count": 16,
     "metadata": {},
     "output_type": "execute_result"
    }
   ],
   "source": [
    "type(l)"
   ]
  },
  {
   "cell_type": "code",
   "execution_count": 17,
   "id": "3bfd7752-5598-4c60-9384-e302d6026f7c",
   "metadata": {},
   "outputs": [
    {
     "data": {
      "text/plain": [
       "1"
      ]
     },
     "execution_count": 17,
     "metadata": {},
     "output_type": "execute_result"
    }
   ],
   "source": [
    "l[0]"
   ]
  },
  {
   "cell_type": "code",
   "execution_count": 18,
   "id": "92e6c292-af6e-4cff-845f-4534752a738f",
   "metadata": {},
   "outputs": [],
   "source": [
    "l.append(10)"
   ]
  },
  {
   "cell_type": "code",
   "execution_count": 19,
   "id": "07723474-92c5-415b-9eb4-65c8ef622f00",
   "metadata": {},
   "outputs": [
    {
     "data": {
      "text/plain": [
       "[1, 2, 3, 4, 10, 1, 2, 3, 4, 10]"
      ]
     },
     "execution_count": 19,
     "metadata": {},
     "output_type": "execute_result"
    }
   ],
   "source": [
    "l + l"
   ]
  },
  {
   "cell_type": "code",
   "execution_count": 20,
   "id": "58923861-72ab-42d8-aa11-2df479dd5661",
   "metadata": {},
   "outputs": [
    {
     "data": {
      "text/plain": [
       "[1, 2, 3, 4, 10, 1, 2, 3, 4, 10]"
      ]
     },
     "execution_count": 20,
     "metadata": {},
     "output_type": "execute_result"
    }
   ],
   "source": [
    "2 * l"
   ]
  },
  {
   "cell_type": "code",
   "execution_count": 21,
   "id": "207bdb6d-2917-4822-92e6-525a3ff87ba7",
   "metadata": {},
   "outputs": [
    {
     "data": {
      "text/plain": [
       "104"
      ]
     },
     "execution_count": 21,
     "metadata": {},
     "output_type": "execute_result"
    }
   ],
   "source": [
    "l.__sizeof__()"
   ]
  },
  {
   "cell_type": "markdown",
   "id": "40447310-c574-4993-a9ef-4c11a4be3043",
   "metadata": {},
   "source": [
    "### ndarray"
   ]
  },
  {
   "cell_type": "code",
   "execution_count": 22,
   "id": "07cfd852-a731-43a8-a180-9fef88ae532f",
   "metadata": {},
   "outputs": [],
   "source": [
    "import numpy as np"
   ]
  },
  {
   "cell_type": "code",
   "execution_count": 23,
   "id": "031b34e5-7bd5-4d43-a817-e04515961b89",
   "metadata": {},
   "outputs": [],
   "source": [
    "a = np.arange(16).reshape((4, 4))"
   ]
  },
  {
   "cell_type": "code",
   "execution_count": 24,
   "id": "87668d4f-3573-4386-8059-d7f048d365bc",
   "metadata": {},
   "outputs": [
    {
     "data": {
      "text/plain": [
       "array([[ 0,  1,  2,  3],\n",
       "       [ 4,  5,  6,  7],\n",
       "       [ 8,  9, 10, 11],\n",
       "       [12, 13, 14, 15]])"
      ]
     },
     "execution_count": 24,
     "metadata": {},
     "output_type": "execute_result"
    }
   ],
   "source": [
    "a"
   ]
  },
  {
   "cell_type": "code",
   "execution_count": 25,
   "id": "ad5282ff-eb6a-43d7-b87f-c642d61dcca6",
   "metadata": {},
   "outputs": [
    {
     "data": {
      "text/plain": [
       "numpy.ndarray"
      ]
     },
     "execution_count": 25,
     "metadata": {},
     "output_type": "execute_result"
    }
   ],
   "source": [
    "type(a)"
   ]
  },
  {
   "cell_type": "code",
   "execution_count": 26,
   "id": "cdc8f4f3-c7c5-4b7a-b7d1-441795083744",
   "metadata": {},
   "outputs": [
    {
     "data": {
      "text/plain": [
       "64"
      ]
     },
     "execution_count": 26,
     "metadata": {},
     "output_type": "execute_result"
    }
   ],
   "source": [
    "a.nbytes"
   ]
  },
  {
   "cell_type": "code",
   "execution_count": 27,
   "id": "e198a645-008c-4076-80d4-bdd4aa841aa4",
   "metadata": {},
   "outputs": [
    {
     "data": {
      "text/plain": [
       "120"
      ]
     },
     "execution_count": 27,
     "metadata": {},
     "output_type": "execute_result"
    }
   ],
   "source": [
    "a.sum()"
   ]
  },
  {
   "cell_type": "code",
   "execution_count": 28,
   "id": "759f0b55-70cc-497b-a6b6-af89ed2c742b",
   "metadata": {},
   "outputs": [
    {
     "data": {
      "text/plain": [
       "array([[ 0,  1,  2,  3],\n",
       "       [ 4,  6,  8, 10],\n",
       "       [12, 15, 18, 21],\n",
       "       [24, 28, 32, 36]], dtype=int32)"
      ]
     },
     "execution_count": 28,
     "metadata": {},
     "output_type": "execute_result"
    }
   ],
   "source": [
    "a.cumsum(axis=0)"
   ]
  },
  {
   "cell_type": "code",
   "execution_count": 29,
   "id": "8f0400e1-f17c-4a5e-89c2-886d032ac1bf",
   "metadata": {},
   "outputs": [
    {
     "data": {
      "text/plain": [
       "array([[ 0,  2,  4,  6],\n",
       "       [ 8, 10, 12, 14],\n",
       "       [16, 18, 20, 22],\n",
       "       [24, 26, 28, 30]])"
      ]
     },
     "execution_count": 29,
     "metadata": {},
     "output_type": "execute_result"
    }
   ],
   "source": [
    "a + a"
   ]
  },
  {
   "cell_type": "code",
   "execution_count": 30,
   "id": "769d4326-b98d-493a-b766-49be71f04688",
   "metadata": {},
   "outputs": [
    {
     "data": {
      "text/plain": [
       "array([[ 0,  2,  4,  6],\n",
       "       [ 8, 10, 12, 14],\n",
       "       [16, 18, 20, 22],\n",
       "       [24, 26, 28, 30]])"
      ]
     },
     "execution_count": 30,
     "metadata": {},
     "output_type": "execute_result"
    }
   ],
   "source": [
    "2 * a"
   ]
  },
  {
   "cell_type": "code",
   "execution_count": 31,
   "id": "094af502-edb7-4546-84bd-689e829d4415",
   "metadata": {},
   "outputs": [
    {
     "data": {
      "text/plain": [
       "array([24, 28, 32, 36])"
      ]
     },
     "execution_count": 31,
     "metadata": {},
     "output_type": "execute_result"
    }
   ],
   "source": [
    "sum(a)"
   ]
  },
  {
   "cell_type": "code",
   "execution_count": 32,
   "id": "eb9dcbc2-d5e8-4425-b07a-07653f085410",
   "metadata": {},
   "outputs": [
    {
     "data": {
      "text/plain": [
       "120"
      ]
     },
     "execution_count": 32,
     "metadata": {},
     "output_type": "execute_result"
    }
   ],
   "source": [
    "np.sum(a)"
   ]
  },
  {
   "cell_type": "code",
   "execution_count": 33,
   "id": "25b1d21f-1ff8-416c-9033-47728eaa5e5d",
   "metadata": {},
   "outputs": [
    {
     "data": {
      "text/plain": [
       "120"
      ]
     },
     "execution_count": 33,
     "metadata": {},
     "output_type": "execute_result"
    }
   ],
   "source": [
    "a.__sizeof__()"
   ]
  },
  {
   "cell_type": "markdown",
   "id": "ff1dbe86-d390-42d7-b272-d66684f9ceb4",
   "metadata": {},
   "source": [
    "### DataFrame"
   ]
  },
  {
   "cell_type": "code",
   "execution_count": 34,
   "id": "e0374265-52ea-411c-998d-d2e884cdb864",
   "metadata": {},
   "outputs": [],
   "source": [
    "import pandas as pd"
   ]
  },
  {
   "cell_type": "code",
   "execution_count": 35,
   "id": "7f5485fd-c2eb-4d59-9fe4-90d62ae916c3",
   "metadata": {},
   "outputs": [],
   "source": [
    "df = pd.DataFrame(a, columns=list('abcd'))"
   ]
  },
  {
   "cell_type": "code",
   "execution_count": 36,
   "id": "c51dd2b7-5a2b-4e47-a6ca-506b2b2f7b7a",
   "metadata": {},
   "outputs": [
    {
     "data": {
      "text/plain": [
       "pandas.core.frame.DataFrame"
      ]
     },
     "execution_count": 36,
     "metadata": {},
     "output_type": "execute_result"
    }
   ],
   "source": [
    "type(df)"
   ]
  },
  {
   "cell_type": "code",
   "execution_count": 37,
   "id": "4c4c2fce-cf7c-44c3-a7d2-3da63ee1598c",
   "metadata": {},
   "outputs": [
    {
     "data": {
      "text/plain": [
       "Index(['a', 'b', 'c', 'd'], dtype='object')"
      ]
     },
     "execution_count": 37,
     "metadata": {},
     "output_type": "execute_result"
    }
   ],
   "source": [
    "df.columns"
   ]
  },
  {
   "cell_type": "code",
   "execution_count": 38,
   "id": "446a57a3-0206-4ec7-a0fd-0f7187b49cee",
   "metadata": {},
   "outputs": [
    {
     "data": {
      "text/plain": [
       "a    24\n",
       "b    28\n",
       "c    32\n",
       "d    36\n",
       "dtype: int64"
      ]
     },
     "execution_count": 38,
     "metadata": {},
     "output_type": "execute_result"
    }
   ],
   "source": [
    "df.sum()"
   ]
  },
  {
   "cell_type": "code",
   "execution_count": 39,
   "id": "2753ab77-f5a5-4c1a-828f-12eee89200b3",
   "metadata": {},
   "outputs": [
    {
     "data": {
      "text/html": [
       "<div>\n",
       "<style scoped>\n",
       "    .dataframe tbody tr th:only-of-type {\n",
       "        vertical-align: middle;\n",
       "    }\n",
       "\n",
       "    .dataframe tbody tr th {\n",
       "        vertical-align: top;\n",
       "    }\n",
       "\n",
       "    .dataframe thead th {\n",
       "        text-align: right;\n",
       "    }\n",
       "</style>\n",
       "<table border=\"1\" class=\"dataframe\">\n",
       "  <thead>\n",
       "    <tr style=\"text-align: right;\">\n",
       "      <th></th>\n",
       "      <th>a</th>\n",
       "      <th>b</th>\n",
       "      <th>c</th>\n",
       "      <th>d</th>\n",
       "    </tr>\n",
       "  </thead>\n",
       "  <tbody>\n",
       "    <tr>\n",
       "      <th>0</th>\n",
       "      <td>0</td>\n",
       "      <td>1</td>\n",
       "      <td>2</td>\n",
       "      <td>3</td>\n",
       "    </tr>\n",
       "    <tr>\n",
       "      <th>1</th>\n",
       "      <td>4</td>\n",
       "      <td>6</td>\n",
       "      <td>8</td>\n",
       "      <td>10</td>\n",
       "    </tr>\n",
       "    <tr>\n",
       "      <th>2</th>\n",
       "      <td>12</td>\n",
       "      <td>15</td>\n",
       "      <td>18</td>\n",
       "      <td>21</td>\n",
       "    </tr>\n",
       "    <tr>\n",
       "      <th>3</th>\n",
       "      <td>24</td>\n",
       "      <td>28</td>\n",
       "      <td>32</td>\n",
       "      <td>36</td>\n",
       "    </tr>\n",
       "  </tbody>\n",
       "</table>\n",
       "</div>"
      ],
      "text/plain": [
       "    a   b   c   d\n",
       "0   0   1   2   3\n",
       "1   4   6   8  10\n",
       "2  12  15  18  21\n",
       "3  24  28  32  36"
      ]
     },
     "execution_count": 39,
     "metadata": {},
     "output_type": "execute_result"
    }
   ],
   "source": [
    "df.cumsum()"
   ]
  },
  {
   "cell_type": "code",
   "execution_count": 40,
   "id": "060d296c-c499-4994-81e0-7686d4b645af",
   "metadata": {},
   "outputs": [
    {
     "data": {
      "text/html": [
       "<div>\n",
       "<style scoped>\n",
       "    .dataframe tbody tr th:only-of-type {\n",
       "        vertical-align: middle;\n",
       "    }\n",
       "\n",
       "    .dataframe tbody tr th {\n",
       "        vertical-align: top;\n",
       "    }\n",
       "\n",
       "    .dataframe thead th {\n",
       "        text-align: right;\n",
       "    }\n",
       "</style>\n",
       "<table border=\"1\" class=\"dataframe\">\n",
       "  <thead>\n",
       "    <tr style=\"text-align: right;\">\n",
       "      <th></th>\n",
       "      <th>a</th>\n",
       "      <th>b</th>\n",
       "      <th>c</th>\n",
       "      <th>d</th>\n",
       "    </tr>\n",
       "  </thead>\n",
       "  <tbody>\n",
       "    <tr>\n",
       "      <th>0</th>\n",
       "      <td>0</td>\n",
       "      <td>2</td>\n",
       "      <td>4</td>\n",
       "      <td>6</td>\n",
       "    </tr>\n",
       "    <tr>\n",
       "      <th>1</th>\n",
       "      <td>8</td>\n",
       "      <td>10</td>\n",
       "      <td>12</td>\n",
       "      <td>14</td>\n",
       "    </tr>\n",
       "    <tr>\n",
       "      <th>2</th>\n",
       "      <td>16</td>\n",
       "      <td>18</td>\n",
       "      <td>20</td>\n",
       "      <td>22</td>\n",
       "    </tr>\n",
       "    <tr>\n",
       "      <th>3</th>\n",
       "      <td>24</td>\n",
       "      <td>26</td>\n",
       "      <td>28</td>\n",
       "      <td>30</td>\n",
       "    </tr>\n",
       "  </tbody>\n",
       "</table>\n",
       "</div>"
      ],
      "text/plain": [
       "    a   b   c   d\n",
       "0   0   2   4   6\n",
       "1   8  10  12  14\n",
       "2  16  18  20  22\n",
       "3  24  26  28  30"
      ]
     },
     "execution_count": 40,
     "metadata": {},
     "output_type": "execute_result"
    }
   ],
   "source": [
    "df+ df"
   ]
  },
  {
   "cell_type": "code",
   "execution_count": 41,
   "id": "7980afb0-105a-4cf8-b466-9afbbf281f2e",
   "metadata": {},
   "outputs": [
    {
     "data": {
      "text/html": [
       "<div>\n",
       "<style scoped>\n",
       "    .dataframe tbody tr th:only-of-type {\n",
       "        vertical-align: middle;\n",
       "    }\n",
       "\n",
       "    .dataframe tbody tr th {\n",
       "        vertical-align: top;\n",
       "    }\n",
       "\n",
       "    .dataframe thead th {\n",
       "        text-align: right;\n",
       "    }\n",
       "</style>\n",
       "<table border=\"1\" class=\"dataframe\">\n",
       "  <thead>\n",
       "    <tr style=\"text-align: right;\">\n",
       "      <th></th>\n",
       "      <th>a</th>\n",
       "      <th>b</th>\n",
       "      <th>c</th>\n",
       "      <th>d</th>\n",
       "    </tr>\n",
       "  </thead>\n",
       "  <tbody>\n",
       "    <tr>\n",
       "      <th>0</th>\n",
       "      <td>0</td>\n",
       "      <td>2</td>\n",
       "      <td>4</td>\n",
       "      <td>6</td>\n",
       "    </tr>\n",
       "    <tr>\n",
       "      <th>1</th>\n",
       "      <td>8</td>\n",
       "      <td>10</td>\n",
       "      <td>12</td>\n",
       "      <td>14</td>\n",
       "    </tr>\n",
       "    <tr>\n",
       "      <th>2</th>\n",
       "      <td>16</td>\n",
       "      <td>18</td>\n",
       "      <td>20</td>\n",
       "      <td>22</td>\n",
       "    </tr>\n",
       "    <tr>\n",
       "      <th>3</th>\n",
       "      <td>24</td>\n",
       "      <td>26</td>\n",
       "      <td>28</td>\n",
       "      <td>30</td>\n",
       "    </tr>\n",
       "  </tbody>\n",
       "</table>\n",
       "</div>"
      ],
      "text/plain": [
       "    a   b   c   d\n",
       "0   0   2   4   6\n",
       "1   8  10  12  14\n",
       "2  16  18  20  22\n",
       "3  24  26  28  30"
      ]
     },
     "execution_count": 41,
     "metadata": {},
     "output_type": "execute_result"
    }
   ],
   "source": [
    "2 * df"
   ]
  },
  {
   "cell_type": "code",
   "execution_count": 42,
   "id": "152a9e06-92c4-4ca5-a4fa-77b6557cf1ab",
   "metadata": {},
   "outputs": [
    {
     "data": {
      "text/plain": [
       "a    24\n",
       "b    28\n",
       "c    32\n",
       "d    36\n",
       "dtype: int64"
      ]
     },
     "execution_count": 42,
     "metadata": {},
     "output_type": "execute_result"
    }
   ],
   "source": [
    "np.sum(df)"
   ]
  },
  {
   "cell_type": "code",
   "execution_count": 43,
   "id": "8f6406fc-a780-4ae3-8bcb-5209f5350bcc",
   "metadata": {},
   "outputs": [
    {
     "data": {
      "text/plain": [
       "192"
      ]
     },
     "execution_count": 43,
     "metadata": {},
     "output_type": "execute_result"
    }
   ],
   "source": [
    "df.__sizeof__()"
   ]
  },
  {
   "cell_type": "markdown",
   "id": "cd0aeda6-b6de-487d-bfad-05f44373b370",
   "metadata": {},
   "source": [
    "## Python Classes"
   ]
  },
  {
   "cell_type": "code",
   "execution_count": 44,
   "id": "a77c1e6c-a1d5-435b-8e3e-a85c9e462652",
   "metadata": {},
   "outputs": [],
   "source": [
    "class FinancialInstrument():\n",
    "    pass"
   ]
  },
  {
   "cell_type": "code",
   "execution_count": 45,
   "id": "4384587b-07c7-4c84-b9ce-114dbb5ab434",
   "metadata": {},
   "outputs": [],
   "source": [
    "fi = FinancialInstrument()"
   ]
  },
  {
   "cell_type": "code",
   "execution_count": 46,
   "id": "7610fa20-5c81-4dc4-a1d7-789ee42b3f1e",
   "metadata": {},
   "outputs": [
    {
     "data": {
      "text/plain": [
       "__main__.FinancialInstrument"
      ]
     },
     "execution_count": 46,
     "metadata": {},
     "output_type": "execute_result"
    }
   ],
   "source": [
    "type(fi)"
   ]
  },
  {
   "cell_type": "code",
   "execution_count": 47,
   "id": "0997b281-be6a-4592-ba73-daf53d2c6a77",
   "metadata": {},
   "outputs": [
    {
     "data": {
      "text/plain": [
       "<__main__.FinancialInstrument at 0x273883a3850>"
      ]
     },
     "execution_count": 47,
     "metadata": {},
     "output_type": "execute_result"
    }
   ],
   "source": [
    "fi"
   ]
  },
  {
   "cell_type": "code",
   "execution_count": 48,
   "id": "7c748d8b-399e-41f5-be06-ce5486d10f53",
   "metadata": {},
   "outputs": [
    {
     "data": {
      "text/plain": [
       "'<__main__.FinancialInstrument object at 0x00000273883A3850>'"
      ]
     },
     "execution_count": 48,
     "metadata": {},
     "output_type": "execute_result"
    }
   ],
   "source": [
    "fi.__str__()"
   ]
  },
  {
   "cell_type": "code",
   "execution_count": 49,
   "id": "b1d524ef-76a7-4931-a6f3-ec3dbc100117",
   "metadata": {},
   "outputs": [],
   "source": [
    "fi.price = 100"
   ]
  },
  {
   "cell_type": "code",
   "execution_count": 50,
   "id": "56ae9a50-715e-4243-8f82-d69a70262001",
   "metadata": {},
   "outputs": [
    {
     "data": {
      "text/plain": [
       "100"
      ]
     },
     "execution_count": 50,
     "metadata": {},
     "output_type": "execute_result"
    }
   ],
   "source": [
    "fi.price"
   ]
  },
  {
   "cell_type": "code",
   "execution_count": 51,
   "id": "07cc85cb-9813-4957-8346-bd573c27a07c",
   "metadata": {},
   "outputs": [],
   "source": [
    "class FinancialInstrument(object):\n",
    "    author = 'Yves Hilpisch'\n",
    "    def __init__(self, symbol, price):\n",
    "        self.symbol = symbol\n",
    "        self.price = price"
   ]
  },
  {
   "cell_type": "code",
   "execution_count": 52,
   "id": "81b1e82b-a99a-4729-9d01-92d248c095dc",
   "metadata": {},
   "outputs": [
    {
     "data": {
      "text/plain": [
       "'Yves Hilpisch'"
      ]
     },
     "execution_count": 52,
     "metadata": {},
     "output_type": "execute_result"
    }
   ],
   "source": [
    "FinancialInstrument.author"
   ]
  },
  {
   "cell_type": "code",
   "execution_count": 58,
   "id": "3d4b08bd-7734-44a9-a4f5-e30f40c46bb3",
   "metadata": {},
   "outputs": [],
   "source": [
    "aapl = FinancialInstrument('AAPL', 100)"
   ]
  },
  {
   "cell_type": "code",
   "execution_count": 59,
   "id": "6e0d4f34-0819-4079-8b45-34fbea0a9825",
   "metadata": {},
   "outputs": [
    {
     "data": {
      "text/plain": [
       "'AAPL'"
      ]
     },
     "execution_count": 59,
     "metadata": {},
     "output_type": "execute_result"
    }
   ],
   "source": [
    "aapl.symbol"
   ]
  },
  {
   "cell_type": "raw",
   "id": "35d6ca8b-9b68-49b6-b95f-6087241dad34",
   "metadata": {},
   "source": [
    "aapl.price = 105"
   ]
  },
  {
   "cell_type": "code",
   "execution_count": 60,
   "id": "783827f3-e68f-4936-b9d0-b218e6cb95c3",
   "metadata": {},
   "outputs": [
    {
     "data": {
      "text/plain": [
       "100"
      ]
     },
     "execution_count": 60,
     "metadata": {},
     "output_type": "execute_result"
    }
   ],
   "source": [
    "aapl.price"
   ]
  },
  {
   "cell_type": "code",
   "execution_count": 61,
   "id": "f9175192-957c-4221-b423-acc3e97275cd",
   "metadata": {},
   "outputs": [],
   "source": [
    "class FinancialInstrument(FinancialInstrument):\n",
    "    def get_price(self):\n",
    "        return self.price\n",
    "    def set_price(self, price):\n",
    "        self.price = price"
   ]
  },
  {
   "cell_type": "code",
   "execution_count": 62,
   "id": "85885fcb-c23a-4401-9494-cfdfb910acb6",
   "metadata": {},
   "outputs": [],
   "source": [
    "fi = FinancialInstrument('AAPL', 100)"
   ]
  },
  {
   "cell_type": "code",
   "execution_count": 63,
   "id": "b53ff1b1-98a3-4dee-917c-b5a236fc7b79",
   "metadata": {},
   "outputs": [
    {
     "data": {
      "text/plain": [
       "100"
      ]
     },
     "execution_count": 63,
     "metadata": {},
     "output_type": "execute_result"
    }
   ],
   "source": [
    "fi.get_price()"
   ]
  },
  {
   "cell_type": "code",
   "execution_count": 64,
   "id": "b9f45b76-9a7a-4de6-80c9-00b12557e83a",
   "metadata": {},
   "outputs": [],
   "source": [
    "fi.set_price(105)"
   ]
  },
  {
   "cell_type": "code",
   "execution_count": 65,
   "id": "c927a6f1-366b-45a9-8349-02cacc559c08",
   "metadata": {},
   "outputs": [
    {
     "data": {
      "text/plain": [
       "105"
      ]
     },
     "execution_count": 65,
     "metadata": {},
     "output_type": "execute_result"
    }
   ],
   "source": [
    "fi.get_price()"
   ]
  },
  {
   "cell_type": "code",
   "execution_count": 66,
   "id": "01b48032-84a2-4c75-bc42-b6af0f1c65e6",
   "metadata": {},
   "outputs": [
    {
     "data": {
      "text/plain": [
       "105"
      ]
     },
     "execution_count": 66,
     "metadata": {},
     "output_type": "execute_result"
    }
   ],
   "source": [
    "fi.price"
   ]
  },
  {
   "cell_type": "code",
   "execution_count": 67,
   "id": "607433ce-a3e0-4fba-990e-5115ab0edd1e",
   "metadata": {},
   "outputs": [],
   "source": [
    "class FinancialInstrument(object):\n",
    "    def __init__(self, symbol, price):\n",
    "        self.symbol = symbol\n",
    "        self.__price = price\n",
    "    def get_price(self):\n",
    "        return self.__price\n",
    "    def set_price(self, price):\n",
    "        self.__price = price"
   ]
  },
  {
   "cell_type": "code",
   "execution_count": 68,
   "id": "bfc536f4-7a02-47f3-9c9c-a8cd7f7bfc67",
   "metadata": {},
   "outputs": [],
   "source": [
    "fi = FinancialInstrument('AAPL', 100)"
   ]
  },
  {
   "cell_type": "code",
   "execution_count": 69,
   "id": "72c9bf37-f85c-45c8-8bfd-d311cfd4cd64",
   "metadata": {},
   "outputs": [
    {
     "data": {
      "text/plain": [
       "100"
      ]
     },
     "execution_count": 69,
     "metadata": {},
     "output_type": "execute_result"
    }
   ],
   "source": [
    "fi.get_price()"
   ]
  },
  {
   "cell_type": "code",
   "execution_count": 70,
   "id": "204a3104-bcd5-4099-b29d-c68f36e11ee6",
   "metadata": {
    "collapsed": true,
    "jupyter": {
     "outputs_hidden": true
    },
    "tags": []
   },
   "outputs": [
    {
     "ename": "AttributeError",
     "evalue": "'FinancialInstrument' object has no attribute '__price'",
     "output_type": "error",
     "traceback": [
      "\u001b[1;31m---------------------------------------------------------------------------\u001b[0m",
      "\u001b[1;31mAttributeError\u001b[0m                            Traceback (most recent call last)",
      "\u001b[1;32m<ipython-input-70-e3138907ce6c>\u001b[0m in \u001b[0;36m<module>\u001b[1;34m\u001b[0m\n\u001b[1;32m----> 1\u001b[1;33m \u001b[0mfi\u001b[0m\u001b[1;33m.\u001b[0m\u001b[0m__price\u001b[0m\u001b[1;33m\u001b[0m\u001b[1;33m\u001b[0m\u001b[0m\n\u001b[0m",
      "\u001b[1;31mAttributeError\u001b[0m: 'FinancialInstrument' object has no attribute '__price'"
     ]
    }
   ],
   "source": [
    "fi.__price"
   ]
  },
  {
   "cell_type": "code",
   "execution_count": 72,
   "id": "b603f927-34ac-4c08-87bb-cc4d42f556a3",
   "metadata": {},
   "outputs": [
    {
     "data": {
      "text/plain": [
       "100"
      ]
     },
     "execution_count": 72,
     "metadata": {},
     "output_type": "execute_result"
    }
   ],
   "source": [
    "fi._FinancialInstrument__price"
   ]
  },
  {
   "cell_type": "code",
   "execution_count": 73,
   "id": "c92eed68-e443-4667-8092-ba2d90244d34",
   "metadata": {},
   "outputs": [],
   "source": [
    "fi._FinancialInstrument__price = 105"
   ]
  },
  {
   "cell_type": "code",
   "execution_count": 74,
   "id": "30f3f993-e850-4f6a-9771-b5dbe4e07cad",
   "metadata": {},
   "outputs": [],
   "source": [
    "fi.set_price(100)"
   ]
  },
  {
   "cell_type": "code",
   "execution_count": 77,
   "id": "36cc754b-2a7b-4c4b-9276-db36e3232c27",
   "metadata": {},
   "outputs": [],
   "source": [
    "class PortfolioPosition(object):\n",
    "    def __init__(self, financial_instrument, position_size):\n",
    "        self.position = financial_instrument\n",
    "        self.__position_size = position_size\n",
    "    def get_position_size(self):\n",
    "        return self.__position_size\n",
    "    def update_position_size(self, position_size):\n",
    "        self.__position_size = position_size\n",
    "    def get_position_value(self):\n",
    "        return self.__position_size * \\\n",
    "            self.position.get_price()"
   ]
  },
  {
   "cell_type": "code",
   "execution_count": 78,
   "id": "53fb98ae-79fa-4afe-bd2e-99b2dc0e12e6",
   "metadata": {},
   "outputs": [],
   "source": [
    "pp = PortfolioPosition(fi, 10)"
   ]
  },
  {
   "cell_type": "code",
   "execution_count": 79,
   "id": "9f7eb315-5d01-490c-bea9-57122e1a9fe3",
   "metadata": {},
   "outputs": [
    {
     "data": {
      "text/plain": [
       "10"
      ]
     },
     "execution_count": 79,
     "metadata": {},
     "output_type": "execute_result"
    }
   ],
   "source": [
    "pp.get_position_size()"
   ]
  },
  {
   "cell_type": "code",
   "execution_count": 80,
   "id": "8477edda-2a0e-45d6-aa50-1345e1ddd25b",
   "metadata": {},
   "outputs": [
    {
     "data": {
      "text/plain": [
       "1000"
      ]
     },
     "execution_count": 80,
     "metadata": {},
     "output_type": "execute_result"
    }
   ],
   "source": [
    "pp.get_position_value()"
   ]
  },
  {
   "cell_type": "code",
   "execution_count": 81,
   "id": "8eff7a06-f934-466f-b853-013bdab5894f",
   "metadata": {},
   "outputs": [
    {
     "data": {
      "text/plain": [
       "100"
      ]
     },
     "execution_count": 81,
     "metadata": {},
     "output_type": "execute_result"
    }
   ],
   "source": [
    "pp.position.get_price()"
   ]
  },
  {
   "cell_type": "code",
   "execution_count": 82,
   "id": "15251b21-8baf-4e31-8704-0e2fc462dc27",
   "metadata": {},
   "outputs": [],
   "source": [
    "pp.position.set_price(105)"
   ]
  },
  {
   "cell_type": "code",
   "execution_count": 83,
   "id": "2415c3e2-8304-42df-8de2-d47320c7542b",
   "metadata": {},
   "outputs": [
    {
     "data": {
      "text/plain": [
       "1050"
      ]
     },
     "execution_count": 83,
     "metadata": {},
     "output_type": "execute_result"
    }
   ],
   "source": [
    "pp.get_position_value()"
   ]
  },
  {
   "cell_type": "markdown",
   "id": "a28ca8c3-50e1-4477-b8f5-4d4304ee0170",
   "metadata": {},
   "source": [
    "## Python Data Model"
   ]
  },
  {
   "cell_type": "code",
   "execution_count": 2,
   "id": "6fc6751a-7938-4bcc-bedd-ae2f0582f5d8",
   "metadata": {
    "tags": []
   },
   "outputs": [],
   "source": [
    "class Vector(object):\n",
    "    def __init__(self,x=0, y=0, z=0):\n",
    "        self.x=x\n",
    "        self.y=y\n",
    "        self.z=z\n",
    "    "
   ]
  },
  {
   "cell_type": "code",
   "execution_count": 3,
   "id": "c4a1b1f1-e8af-4dce-92bf-9f8bffd4b39c",
   "metadata": {},
   "outputs": [],
   "source": [
    "v = Vector(1, 2, 3)"
   ]
  },
  {
   "cell_type": "code",
   "execution_count": 4,
   "id": "4f0ac1d7-7f88-43dd-b3eb-b34c092f4e4b",
   "metadata": {},
   "outputs": [
    {
     "data": {
      "text/plain": [
       "<__main__.Vector at 0x1a3ef797520>"
      ]
     },
     "execution_count": 4,
     "metadata": {},
     "output_type": "execute_result"
    }
   ],
   "source": [
    "v"
   ]
  },
  {
   "cell_type": "code",
   "execution_count": 6,
   "id": "584504e7-e3e6-4444-851e-20ad9da314fa",
   "metadata": {},
   "outputs": [],
   "source": [
    "class Vector(Vector):\n",
    "    def __repr__(self):\n",
    "        return 'Vector(%r, %r, %r,)' % (self.x, self.y, self.z)"
   ]
  },
  {
   "cell_type": "code",
   "execution_count": 7,
   "id": "f6ca987e-3271-4542-829c-0f1f85a87971",
   "metadata": {},
   "outputs": [],
   "source": [
    "v = Vector(1, 2, 3)"
   ]
  },
  {
   "cell_type": "code",
   "execution_count": 8,
   "id": "52401176-d2cb-45e9-9518-9314506a5f98",
   "metadata": {},
   "outputs": [
    {
     "data": {
      "text/plain": [
       "Vector(1, 2, 3,)"
      ]
     },
     "execution_count": 8,
     "metadata": {},
     "output_type": "execute_result"
    }
   ],
   "source": [
    "v"
   ]
  },
  {
   "cell_type": "code",
   "execution_count": 9,
   "id": "f63da0b2-1465-4dc9-a284-e11d0d3205db",
   "metadata": {},
   "outputs": [
    {
     "name": "stdout",
     "output_type": "stream",
     "text": [
      "Vector(1, 2, 3,)\n"
     ]
    }
   ],
   "source": [
    "print(v)"
   ]
  },
  {
   "cell_type": "code",
   "execution_count": 10,
   "id": "17049c06-0098-494d-a647-c1d70689f3eb",
   "metadata": {},
   "outputs": [],
   "source": [
    "class Vector(Vector):\n",
    "    def __abs__(self):\n",
    "        return(self.x ** 2 + self.y ** 2 + self.z ** 2) ** 0.5\n",
    "    \n",
    "    def __bool__(self):\n",
    "        return bool(abs(self))"
   ]
  },
  {
   "cell_type": "code",
   "execution_count": 11,
   "id": "b2d509fc-fc3e-429a-8338-f16efe6e476e",
   "metadata": {},
   "outputs": [],
   "source": [
    "v = Vector(1, 2, -1)"
   ]
  },
  {
   "cell_type": "code",
   "execution_count": 12,
   "id": "0ca4a838-a04f-48f3-83e7-a701774b8a3f",
   "metadata": {},
   "outputs": [
    {
     "data": {
      "text/plain": [
       "2.449489742783178"
      ]
     },
     "execution_count": 12,
     "metadata": {},
     "output_type": "execute_result"
    }
   ],
   "source": [
    "abs(v)"
   ]
  },
  {
   "cell_type": "code",
   "execution_count": 13,
   "id": "d3db9ea3-18f0-478c-b3a7-df959b9e7ac9",
   "metadata": {},
   "outputs": [
    {
     "data": {
      "text/plain": [
       "True"
      ]
     },
     "execution_count": 13,
     "metadata": {},
     "output_type": "execute_result"
    }
   ],
   "source": [
    "bool(v)"
   ]
  },
  {
   "cell_type": "code",
   "execution_count": 14,
   "id": "3c483c89-707f-418b-94b3-de0212cf3328",
   "metadata": {},
   "outputs": [],
   "source": [
    "v = Vector()"
   ]
  },
  {
   "cell_type": "code",
   "execution_count": 15,
   "id": "22b12fe7-2dca-4772-9b18-a4ec1bef3007",
   "metadata": {},
   "outputs": [
    {
     "data": {
      "text/plain": [
       "Vector(0, 0, 0,)"
      ]
     },
     "execution_count": 15,
     "metadata": {},
     "output_type": "execute_result"
    }
   ],
   "source": [
    "v"
   ]
  },
  {
   "cell_type": "code",
   "execution_count": 16,
   "id": "951c6a9c-8fcf-432b-9059-212ea51363c4",
   "metadata": {},
   "outputs": [
    {
     "data": {
      "text/plain": [
       "0.0"
      ]
     },
     "execution_count": 16,
     "metadata": {},
     "output_type": "execute_result"
    }
   ],
   "source": [
    "abs(v)"
   ]
  },
  {
   "cell_type": "code",
   "execution_count": 17,
   "id": "ca20f0f5-ae0a-48fc-b1c4-53041be96fce",
   "metadata": {},
   "outputs": [
    {
     "data": {
      "text/plain": [
       "False"
      ]
     },
     "execution_count": 17,
     "metadata": {},
     "output_type": "execute_result"
    }
   ],
   "source": [
    "bool(v)"
   ]
  },
  {
   "cell_type": "code",
   "execution_count": 18,
   "id": "2a9b3754-f621-4000-9afd-bd7c44aef0fb",
   "metadata": {},
   "outputs": [],
   "source": [
    "class Vector(Vector):\n",
    "    def __add__(self, other):\n",
    "        x = self.x + other.x\n",
    "        y = self.y + other.y\n",
    "        z = self.z + other.z\n",
    "        return Vector(x, y, z)\n",
    "    def __mul__(self, scalar):\n",
    "        return Vector(self.x * scalar,\n",
    "                      self.y * scalar,\n",
    "                      self.z * scalar)\n",
    "        "
   ]
  },
  {
   "cell_type": "code",
   "execution_count": 19,
   "id": "ea86da9a-172c-4781-891c-096345f40171",
   "metadata": {},
   "outputs": [],
   "source": [
    "v = Vector(1, 2, 3)"
   ]
  },
  {
   "cell_type": "code",
   "execution_count": 20,
   "id": "98885467-ae41-4c94-ade6-0a47bd794db7",
   "metadata": {},
   "outputs": [
    {
     "data": {
      "text/plain": [
       "Vector(3, 5, 7,)"
      ]
     },
     "execution_count": 20,
     "metadata": {},
     "output_type": "execute_result"
    }
   ],
   "source": [
    "v + Vector(2, 3, 4)"
   ]
  },
  {
   "cell_type": "code",
   "execution_count": 21,
   "id": "081bc28e-6add-44c9-9bfe-90bd00d4937f",
   "metadata": {},
   "outputs": [
    {
     "data": {
      "text/plain": [
       "Vector(2, 4, 6,)"
      ]
     },
     "execution_count": 21,
     "metadata": {},
     "output_type": "execute_result"
    }
   ],
   "source": [
    "v * 2"
   ]
  },
  {
   "cell_type": "code",
   "execution_count": 22,
   "id": "53478272-d8b7-4e09-ac49-e1e24ebddddb",
   "metadata": {},
   "outputs": [],
   "source": [
    "class Vector(Vector):\n",
    "    def __len__(self):\n",
    "        return 3\n",
    "    def __getitem__(self, i):\n",
    "        if i in[0, -3]: return self.x\n",
    "        elif i in [1, -2]: return self.y\n",
    "        elif i in [2, -1]: return self.z\n",
    "        else: raise IndexError('Index out of range.')"
   ]
  },
  {
   "cell_type": "code",
   "execution_count": 23,
   "id": "64fce471-3f12-4296-964a-280cb4c30cc1",
   "metadata": {},
   "outputs": [],
   "source": [
    "v = Vector(1, 2, 3)"
   ]
  },
  {
   "cell_type": "code",
   "execution_count": 24,
   "id": "9a0c5bc4-1197-4e24-911f-7999cf9f7a0f",
   "metadata": {},
   "outputs": [
    {
     "data": {
      "text/plain": [
       "3"
      ]
     },
     "execution_count": 24,
     "metadata": {},
     "output_type": "execute_result"
    }
   ],
   "source": [
    "len(v)"
   ]
  },
  {
   "cell_type": "code",
   "execution_count": 25,
   "id": "a4b0b7ed-775a-41d0-9eb1-da3441b15005",
   "metadata": {},
   "outputs": [
    {
     "data": {
      "text/plain": [
       "1"
      ]
     },
     "execution_count": 25,
     "metadata": {},
     "output_type": "execute_result"
    }
   ],
   "source": [
    "v[0]"
   ]
  },
  {
   "cell_type": "code",
   "execution_count": 26,
   "id": "3c9fa172-26f6-4a9f-bdb1-0a16185d1f22",
   "metadata": {},
   "outputs": [
    {
     "data": {
      "text/plain": [
       "2"
      ]
     },
     "execution_count": 26,
     "metadata": {},
     "output_type": "execute_result"
    }
   ],
   "source": [
    "v[-2]"
   ]
  },
  {
   "cell_type": "code",
   "execution_count": 27,
   "id": "1195f719-286a-4064-b860-8b3f9b5493cd",
   "metadata": {},
   "outputs": [
    {
     "ename": "IndexError",
     "evalue": "Index out of range.",
     "output_type": "error",
     "traceback": [
      "\u001b[1;31m---------------------------------------------------------------------------\u001b[0m",
      "\u001b[1;31mIndexError\u001b[0m                                Traceback (most recent call last)",
      "\u001b[1;32m<ipython-input-27-f998c57dcc1e>\u001b[0m in \u001b[0;36m<module>\u001b[1;34m\u001b[0m\n\u001b[1;32m----> 1\u001b[1;33m \u001b[0mv\u001b[0m\u001b[1;33m[\u001b[0m\u001b[1;36m3\u001b[0m\u001b[1;33m]\u001b[0m\u001b[1;33m\u001b[0m\u001b[1;33m\u001b[0m\u001b[0m\n\u001b[0m",
      "\u001b[1;32m<ipython-input-22-4c161ce5c15b>\u001b[0m in \u001b[0;36m__getitem__\u001b[1;34m(self, i)\u001b[0m\n\u001b[0;32m      6\u001b[0m         \u001b[1;32melif\u001b[0m \u001b[0mi\u001b[0m \u001b[1;32min\u001b[0m \u001b[1;33m[\u001b[0m\u001b[1;36m1\u001b[0m\u001b[1;33m,\u001b[0m \u001b[1;33m-\u001b[0m\u001b[1;36m2\u001b[0m\u001b[1;33m]\u001b[0m\u001b[1;33m:\u001b[0m \u001b[1;32mreturn\u001b[0m \u001b[0mself\u001b[0m\u001b[1;33m.\u001b[0m\u001b[0my\u001b[0m\u001b[1;33m\u001b[0m\u001b[1;33m\u001b[0m\u001b[0m\n\u001b[0;32m      7\u001b[0m         \u001b[1;32melif\u001b[0m \u001b[0mi\u001b[0m \u001b[1;32min\u001b[0m \u001b[1;33m[\u001b[0m\u001b[1;36m2\u001b[0m\u001b[1;33m,\u001b[0m \u001b[1;33m-\u001b[0m\u001b[1;36m1\u001b[0m\u001b[1;33m]\u001b[0m\u001b[1;33m:\u001b[0m \u001b[1;32mreturn\u001b[0m \u001b[0mself\u001b[0m\u001b[1;33m.\u001b[0m\u001b[0mz\u001b[0m\u001b[1;33m\u001b[0m\u001b[1;33m\u001b[0m\u001b[0m\n\u001b[1;32m----> 8\u001b[1;33m         \u001b[1;32melse\u001b[0m\u001b[1;33m:\u001b[0m \u001b[1;32mraise\u001b[0m \u001b[0mIndexError\u001b[0m\u001b[1;33m(\u001b[0m\u001b[1;34m'Index out of range.'\u001b[0m\u001b[1;33m)\u001b[0m\u001b[1;33m\u001b[0m\u001b[1;33m\u001b[0m\u001b[0m\n\u001b[0m",
      "\u001b[1;31mIndexError\u001b[0m: Index out of range."
     ]
    }
   ],
   "source": [
    "v[3]"
   ]
  },
  {
   "cell_type": "code",
   "execution_count": 28,
   "id": "7b5b5da2-938a-4a7e-b721-2af4791a50b5",
   "metadata": {},
   "outputs": [],
   "source": [
    "class Vecvotr(Vector):\n",
    "    def __iter__(self):\n",
    "        for i in range(len(self)):\n",
    "            yield self[i]"
   ]
  },
  {
   "cell_type": "code",
   "execution_count": 30,
   "id": "487dc07c-d1a5-4dc5-a63f-78449a20d7c2",
   "metadata": {},
   "outputs": [],
   "source": [
    "v = Vector(1, 2, 3)"
   ]
  },
  {
   "cell_type": "code",
   "execution_count": 31,
   "id": "907e8613-e491-4a30-afd0-987a21721ba2",
   "metadata": {},
   "outputs": [
    {
     "name": "stdout",
     "output_type": "stream",
     "text": [
      "1\n",
      "2\n",
      "3\n"
     ]
    }
   ],
   "source": [
    "for i in range(3):\n",
    "    print(v[i])"
   ]
  },
  {
   "cell_type": "code",
   "execution_count": 32,
   "id": "8f43d8e5-1354-4be4-af0c-ce97d6c52510",
   "metadata": {},
   "outputs": [
    {
     "name": "stdout",
     "output_type": "stream",
     "text": [
      "1\n",
      "2\n",
      "3\n"
     ]
    }
   ],
   "source": [
    "for coordinate in v:\n",
    "    print(coordinate)\n",
    "    "
   ]
  },
  {
   "cell_type": "code",
   "execution_count": null,
   "id": "d2799d13-53f7-4e09-b265-37e80d7e2bda",
   "metadata": {},
   "outputs": [],
   "source": []
  }
 ],
 "metadata": {
  "kernelspec": {
   "display_name": "Python 3",
   "language": "python",
   "name": "python3"
  },
  "language_info": {
   "codemirror_mode": {
    "name": "ipython",
    "version": 3
   },
   "file_extension": ".py",
   "mimetype": "text/x-python",
   "name": "python",
   "nbconvert_exporter": "python",
   "pygments_lexer": "ipython3",
   "version": "3.8.8"
  }
 },
 "nbformat": 4,
 "nbformat_minor": 5
}
